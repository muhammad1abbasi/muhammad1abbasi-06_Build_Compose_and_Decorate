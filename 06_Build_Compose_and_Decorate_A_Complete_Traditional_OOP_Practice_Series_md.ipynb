{
  "nbformat": 4,
  "nbformat_minor": 0,
  "metadata": {
    "colab": {
      "provenance": [],
      "authorship_tag": "ABX9TyNmuUc+C4xcCuQdPFpgrOsm",
      "include_colab_link": true
    },
    "kernelspec": {
      "name": "python3",
      "display_name": "Python 3"
    },
    "language_info": {
      "name": "python"
    }
  },
  "cells": [
    {
      "cell_type": "markdown",
      "metadata": {
        "id": "view-in-github",
        "colab_type": "text"
      },
      "source": [
        "<a href=\"https://colab.research.google.com/github/muhammad1abbasi/muhammad1abbasi-06_Build_Compose_and_Decorate/blob/main/06_Build_Compose_and_Decorate_A_Complete_Traditional_OOP_Practice_Series_md.ipynb\" target=\"_parent\"><img src=\"https://colab.research.google.com/assets/colab-badge.svg\" alt=\"Open In Colab\"/></a>"
      ]
    },
    {
      "cell_type": "markdown",
      "source": [
        "1. Using self"
      ],
      "metadata": {
        "id": "MuvgKoc30T7s"
      }
    },
    {
      "cell_type": "code",
      "execution_count": null,
      "metadata": {
        "colab": {
          "base_uri": "https://localhost:8080/"
        },
        "id": "uRex14b6z5cp",
        "outputId": "14e6dcbc-174f-44cb-f305-80b76b10ae62"
      },
      "outputs": [
        {
          "output_type": "stream",
          "name": "stdout",
          "text": [
            " Name Khalid : Marks 67 / 100\n"
          ]
        }
      ],
      "source": [
        "class Student :\n",
        "  def __init__(self,name,marks):\n",
        "    self.name = name\n",
        "    self.marks = marks\n",
        "  def display(self):\n",
        "    print(f\" Name {self.name} : Marks {self.marks} / 100\")\n",
        "\n",
        "the_student = Student(\"Khalid\" , 67)\n",
        "the_student.display()"
      ]
    },
    {
      "cell_type": "markdown",
      "source": [
        "2. Using cls"
      ],
      "metadata": {
        "id": "wVfMY-GA1LVg"
      }
    },
    {
      "cell_type": "code",
      "source": [
        "class Counter:\n",
        "\n",
        "  count = 0\n",
        "\n",
        "  def __init__(self):\n",
        "\n",
        "    Counter.count += 1\n",
        "\n",
        "  @classmethod\n",
        "  def show_count(cls):\n",
        "    print(f\"Total objects created: {cls.count}\")\n",
        "\n",
        "obj1 = Counter()\n",
        "obj2 = Counter()\n",
        "obj3 = Counter()\n",
        "\n",
        "Counter.show_count()"
      ],
      "metadata": {
        "colab": {
          "base_uri": "https://localhost:8080/"
        },
        "id": "Xr4-AObD1K0x",
        "outputId": "09f08eb1-9066-41cd-c59a-5abfd76214db"
      },
      "execution_count": null,
      "outputs": [
        {
          "output_type": "stream",
          "name": "stdout",
          "text": [
            "Total objects created: 3\n"
          ]
        }
      ]
    },
    {
      "cell_type": "markdown",
      "source": [
        "3. Public Variables and Methods"
      ],
      "metadata": {
        "id": "rm0-3VwG86pE"
      }
    },
    {
      "cell_type": "code",
      "source": [
        "class Car:\n",
        "  def __init__(self,brand):\n",
        "    self.brand = brand\n",
        "\n",
        "  def start(self):\n",
        "    print(f\"{self.brand} is starting...\")\n",
        "\n",
        "my_car = Car(\"Lamborghini\")\n",
        "\n",
        "print(\"Car brand:\", my_car.brand)\n",
        "\n",
        "my_car.start()"
      ],
      "metadata": {
        "colab": {
          "base_uri": "https://localhost:8080/"
        },
        "id": "5jhTz2xi8_IS",
        "outputId": "d094f8a8-0056-4054-e476-4013ea6c8987"
      },
      "execution_count": null,
      "outputs": [
        {
          "output_type": "stream",
          "name": "stdout",
          "text": [
            "Car brand: Lamborghini\n",
            "Lamborghini is starting...\n"
          ]
        }
      ]
    },
    {
      "cell_type": "markdown",
      "source": [
        "4. Class Variables and Class Methods"
      ],
      "metadata": {
        "id": "mwE0JnVMwXfg"
      }
    },
    {
      "cell_type": "code",
      "source": [
        "class Bank:\n",
        "  bank_name = \"Meezan bank\"\n",
        "\n",
        "  @classmethod\n",
        "  def change_bank_name(cls,name):\n",
        "    cls.bank_name = name\n",
        "\n",
        "user1 = Bank()\n",
        "user2 = Bank()\n",
        "\n",
        "print(\"Before change:\")\n",
        "print(\"User1 bank:\", user1.bank_name)\n",
        "print(\"User2 bank:\", user2.bank_name)\n",
        "\n",
        "Bank.change_bank_name(\"Al Habib\")\n",
        "\n",
        "print(\"\\nAfter change:\")\n",
        "print(\"User1 bank:\", user1.bank_name)\n",
        "print(\"User2 bank:\", user2.bank_name)"
      ],
      "metadata": {
        "colab": {
          "base_uri": "https://localhost:8080/"
        },
        "id": "c8a5JqjzwYlv",
        "outputId": "853a4750-7e73-4e60-e2f9-697e4c83c094"
      },
      "execution_count": null,
      "outputs": [
        {
          "output_type": "stream",
          "name": "stdout",
          "text": [
            "Before change:\n",
            "User1 bank: Meezan bank\n",
            "User2 bank: Meezan bank\n",
            "\n",
            "After change:\n",
            "User1 bank: Al Habib\n",
            "User2 bank: Al Habib\n"
          ]
        }
      ]
    },
    {
      "cell_type": "markdown",
      "source": [
        "5. Static Variables and Static Methods"
      ],
      "metadata": {
        "id": "BFvO0kvux-o3"
      }
    },
    {
      "cell_type": "code",
      "source": [
        "class MathUtils:\n",
        "  @staticmethod\n",
        "  def add(a,b):\n",
        "    return a + b\n",
        "\n",
        "result = MathUtils.add(5,4)\n",
        "print(\"The sum is : \", result)"
      ],
      "metadata": {
        "colab": {
          "base_uri": "https://localhost:8080/"
        },
        "id": "TvP6MM07x_bi",
        "outputId": "3f2983d2-f593-4b53-f5db-b1e12d733a3f"
      },
      "execution_count": null,
      "outputs": [
        {
          "output_type": "stream",
          "name": "stdout",
          "text": [
            "The sum is :  9\n"
          ]
        }
      ]
    },
    {
      "cell_type": "markdown",
      "source": [
        "6. Constructors and Destructors"
      ],
      "metadata": {
        "id": "04mpMY11yhHH"
      }
    },
    {
      "cell_type": "code",
      "source": [
        "class Logger:\n",
        "  def __init__(self):\n",
        "    print(\"Logger intialized: object created.\")\n",
        "\n",
        "  def __del__(self):\n",
        "    print(\"Logger destroyed: object deleted.\")\n",
        "\n",
        "log = Logger()\n",
        "\n",
        "\n",
        "del log"
      ],
      "metadata": {
        "colab": {
          "base_uri": "https://localhost:8080/"
        },
        "id": "hfwxpA_eyhsK",
        "outputId": "2b83650d-e468-4261-921c-4f4f0b02e706"
      },
      "execution_count": null,
      "outputs": [
        {
          "output_type": "stream",
          "name": "stdout",
          "text": [
            "Logger intialized: object created.\n",
            "Logger destroyed: object deleted.\n"
          ]
        }
      ]
    },
    {
      "cell_type": "markdown",
      "source": [
        "Access Modifiers: Public, Private, and Protected"
      ],
      "metadata": {
        "id": "_SsRJCdazN3W"
      }
    },
    {
      "cell_type": "code",
      "source": [
        "class Employee:\n",
        "  def __init__(self, name , salary , ssn):\n",
        "    self.name = name\n",
        "    self._salary = salary\n",
        "    self.__ssn = ssn\n",
        "\n",
        "emp = Employee(\"Bruce Wayne\", 50000, \"192-168-43-1\")\n",
        "\n",
        "print(\"Public Name:\", emp.name)\n",
        "print(\"Protected Salary:\", emp._salary)\n",
        "\n",
        "try:\n",
        "  print(\"Private SSN:\" , emp.__ssn)\n",
        "except AttributeError as e:\n",
        "  print(\"Private SSN: Cannot access directly -\", e)\n",
        "\n",
        "\n",
        "print(\"Accessing Private SSN with name mangling:\", emp._Employee__ssn)"
      ],
      "metadata": {
        "colab": {
          "base_uri": "https://localhost:8080/"
        },
        "id": "-aBTMSZrzOnL",
        "outputId": "86a579aa-3405-4caf-f25e-6fedb14a8724"
      },
      "execution_count": null,
      "outputs": [
        {
          "output_type": "stream",
          "name": "stdout",
          "text": [
            "Public Name: Bruce Wayne\n",
            "Protected Salary: 50000\n",
            "Private SSN: Cannot access directly - 'Employee' object has no attribute '__ssn'\n",
            "Accessing Private SSN with name mangling: 192-168-43-1\n"
          ]
        }
      ]
    },
    {
      "cell_type": "markdown",
      "source": [
        "8. The super() Function"
      ],
      "metadata": {
        "id": "3Z2JuR5A6Ku7"
      }
    },
    {
      "cell_type": "code",
      "source": [
        "class Person:\n",
        "  def __init__(self, name):\n",
        "    self.name = name\n",
        "    print(\"Person constructor called. Name set to:\", self.name)\n",
        "\n",
        "class Teacher(Person):\n",
        "  def __init__(self, name , subject):\n",
        "    super().__init__(name)\n",
        "    self.subject = subject\n",
        "    print(\"Teacher constuctor called. Subject set to:\", self.subject)\n",
        "\n",
        "t = Teacher(\"Alfred\", \"Science\")"
      ],
      "metadata": {
        "colab": {
          "base_uri": "https://localhost:8080/"
        },
        "id": "kjvJZrQE6Quj",
        "outputId": "1d044354-cb3f-4071-ad37-d944c4ebd09e"
      },
      "execution_count": null,
      "outputs": [
        {
          "output_type": "stream",
          "name": "stdout",
          "text": [
            "Person constructor called. Name set to: Alfred\n",
            "Teacher constuctor called. Subject set to: Science\n"
          ]
        }
      ]
    },
    {
      "cell_type": "markdown",
      "source": [
        "9. Abstract Classes and Methods"
      ],
      "metadata": {
        "id": "YHawmTDk7sM0"
      }
    },
    {
      "cell_type": "code",
      "source": [
        "from abc import ABC, abstractmethod\n",
        "\n",
        "\n",
        "class Shape(ABC):\n",
        "    @abstractmethod\n",
        "    def area(self):\n",
        "        pass\n",
        "\n",
        "\n",
        "class Rectangle(Shape):\n",
        "    def __init__(self, width, height):\n",
        "        self.width = width\n",
        "        self.height = height\n",
        "\n",
        "    def area(self):\n",
        "        return self.width * self.height\n",
        "\n",
        "\n",
        "rect = Rectangle(5, 10)\n",
        "print(\"Area of rectangle:\", rect.area())\n"
      ],
      "metadata": {
        "colab": {
          "base_uri": "https://localhost:8080/"
        },
        "id": "-DD6cLWL7tbs",
        "outputId": "877bbf37-1806-4524-a138-f7a5f9d45dcd"
      },
      "execution_count": null,
      "outputs": [
        {
          "output_type": "stream",
          "name": "stdout",
          "text": [
            "Area of rectangle: 50\n"
          ]
        }
      ]
    },
    {
      "cell_type": "markdown",
      "source": [
        "10. Instance Methods"
      ],
      "metadata": {
        "id": "-V_Oe51xufFx"
      }
    },
    {
      "cell_type": "code",
      "source": [
        "class Dog:\n",
        "  def __init__(self , name , breed):\n",
        "    self.name = name\n",
        "    self.breed = breed\n",
        "\n",
        "  def bark(self):\n",
        "    print(f\"{self.name} is barking woof wooof...\")\n",
        "\n",
        "\n",
        "my_dog = Dog(\"Buddy\", \"Golden Retriever\")\n",
        "\n",
        "my_dog.bark()"
      ],
      "metadata": {
        "colab": {
          "base_uri": "https://localhost:8080/"
        },
        "id": "Wk-LsFzSufzr",
        "outputId": "a6d34e99-556e-4244-c6f2-d2fe8fb9abed"
      },
      "execution_count": null,
      "outputs": [
        {
          "output_type": "stream",
          "name": "stdout",
          "text": [
            "Buddy is barking woof wooof...\n"
          ]
        }
      ]
    },
    {
      "cell_type": "markdown",
      "source": [
        "11. Class Methods"
      ],
      "metadata": {
        "id": "e9t1-qCkvWZz"
      }
    },
    {
      "cell_type": "code",
      "source": [
        "class Book:\n",
        "  total_books = 0\n",
        "\n",
        "  def __init__(self , title):\n",
        "    self.title = title\n",
        "    Book.increment_book_count()\n",
        "\n",
        "  @classmethod\n",
        "  def increment_book_count(cls):\n",
        "    cls.total_books +=1\n",
        "\n",
        "b1= Book(\"Python 101\")\n",
        "b2= Book(\"Typescript 101\")\n",
        "b3= Book(\"Rich dad poor son\")\n",
        "\n",
        "print(\"Total books:\", Book.total_books)"
      ],
      "metadata": {
        "colab": {
          "base_uri": "https://localhost:8080/"
        },
        "id": "Dh66KK7QvW8I",
        "outputId": "882460f0-87ea-44ec-9883-b0a64cb9cd94"
      },
      "execution_count": null,
      "outputs": [
        {
          "output_type": "stream",
          "name": "stdout",
          "text": [
            "Total books: 3\n"
          ]
        }
      ]
    },
    {
      "cell_type": "markdown",
      "source": [
        "12. Static Methods"
      ],
      "metadata": {
        "id": "xPkrOCNvwZ1x"
      }
    },
    {
      "cell_type": "code",
      "source": [
        "class TempratureConverter:\n",
        "  @staticmethod\n",
        "  def celsius_to_fahrenheit(c):\n",
        "    return (c * 9/5) + 32\n",
        "\n",
        "temp_c = 25\n",
        "temp_f = TempratureConverter.celsius_to_fahrenheit(temp_c)\n",
        "print(f\"{temp_c}C is {temp_f} F\")"
      ],
      "metadata": {
        "colab": {
          "base_uri": "https://localhost:8080/"
        },
        "id": "NlUuh6hjv4TW",
        "outputId": "36ca5c82-dbe3-475c-b8e9-66b7fc600af4"
      },
      "execution_count": null,
      "outputs": [
        {
          "output_type": "stream",
          "name": "stdout",
          "text": [
            "25C is 77.0 F\n"
          ]
        }
      ]
    },
    {
      "cell_type": "markdown",
      "source": [
        "13. Composition"
      ],
      "metadata": {
        "id": "14LO8-Ch6qP-"
      }
    },
    {
      "cell_type": "code",
      "source": [
        "class Engine:\n",
        "  def start(self):\n",
        "    print(\"Engine started\")\n",
        "\n",
        "class Car:\n",
        "  def __init__(self, engine):\n",
        "    self.engine = engine\n",
        "\n",
        "  def start_car(self):\n",
        "    self.engine.start()\n",
        "\n",
        "my_engine = Engine()\n",
        "my_car = Car(my_engine)\n",
        "\n",
        "my_car.start_car()"
      ],
      "metadata": {
        "colab": {
          "base_uri": "https://localhost:8080/"
        },
        "id": "4uh5Fsr06q8K",
        "outputId": "e6643a54-9472-4594-ebd3-9c32a4626b21"
      },
      "execution_count": null,
      "outputs": [
        {
          "output_type": "stream",
          "name": "stdout",
          "text": [
            "Engine started\n"
          ]
        }
      ]
    },
    {
      "cell_type": "markdown",
      "source": [
        "14. Aggregation"
      ],
      "metadata": {
        "id": "dSaOp_R58jjI"
      }
    },
    {
      "cell_type": "code",
      "source": [
        "class Employee:\n",
        "  def __init__(self, name):\n",
        "    self.name = name\n",
        "\n",
        "class Department:\n",
        "  def __init__(self, department_name, employee):\n",
        "    self.department_name = department_name\n",
        "    self.employee = employee\n",
        "\n",
        "  def show_info(self):\n",
        "    print(f\"Department: {self.department_name}\")\n",
        "    print(f\"Employee Name: {self.employee.name}\")\n",
        "\n",
        "emp1 = Employee(\"khalid\")\n",
        "\n",
        "dept1 = Department(\"aljazeera\", emp1)\n",
        "\n",
        "dept1.show_info()\n"
      ],
      "metadata": {
        "colab": {
          "base_uri": "https://localhost:8080/"
        },
        "id": "v4_hG6u18kms",
        "outputId": "98dd8308-b7e9-450c-bc51-5fd6a80a700c"
      },
      "execution_count": null,
      "outputs": [
        {
          "output_type": "stream",
          "name": "stdout",
          "text": [
            "Department: aljazeera\n",
            "Employee Name: khalid\n"
          ]
        }
      ]
    },
    {
      "cell_type": "markdown",
      "source": [
        "15. Method Resolution Order (MRO) and Diamond Inheritance"
      ],
      "metadata": {
        "id": "GJT7euck9-Xx"
      }
    },
    {
      "cell_type": "code",
      "source": [
        "class A:\n",
        "  def show(self):\n",
        "    print(\"Show from class A\")\n",
        "\n",
        "class B(A):\n",
        "\n",
        "  def show(self):\n",
        "    print(\"Show from Class B\")\n",
        "\n",
        "class C(A):\n",
        "  def show(self):\n",
        "    print(\"Show from Class C\")\n",
        "\n",
        "class D(B, C):\n",
        "  pass\n",
        "\n",
        "d = D()\n",
        "\n",
        "d.show()\n",
        "\n",
        "print(D.__mro__)"
      ],
      "metadata": {
        "colab": {
          "base_uri": "https://localhost:8080/"
        },
        "id": "9uYGbb219-yp",
        "outputId": "4b4f9588-716f-4353-8173-ee6efc2d229a"
      },
      "execution_count": null,
      "outputs": [
        {
          "output_type": "stream",
          "name": "stdout",
          "text": [
            "Show from Class B\n",
            "(<class '__main__.D'>, <class '__main__.B'>, <class '__main__.C'>, <class '__main__.A'>, <class 'object'>)\n"
          ]
        }
      ]
    },
    {
      "cell_type": "markdown",
      "source": [
        "16. Function Decorators"
      ],
      "metadata": {
        "id": "FnmA0yF1G1AA"
      }
    },
    {
      "cell_type": "code",
      "source": [
        "def log_function_call(func):\n",
        "  def wrapper():\n",
        "    print(\"Function is being called\")\n",
        "    func()\n",
        "  return wrapper\n",
        "\n",
        "@log_function_call\n",
        "def say_hello():\n",
        "  print(\"Hell0 Master Muhammad\")\n",
        "\n",
        "say_hello()"
      ],
      "metadata": {
        "colab": {
          "base_uri": "https://localhost:8080/"
        },
        "id": "KrTAAzNyG1gR",
        "outputId": "10e5d712-d694-4c55-d467-cde42004122f"
      },
      "execution_count": null,
      "outputs": [
        {
          "output_type": "stream",
          "name": "stdout",
          "text": [
            "Function is being called\n",
            "Hell0 Master Muhammad\n"
          ]
        }
      ]
    },
    {
      "cell_type": "markdown",
      "source": [
        "17. Class Decorators"
      ],
      "metadata": {
        "id": "a07-OFBFp7NB"
      }
    },
    {
      "cell_type": "code",
      "source": [
        "\n",
        "def add_greeting(cls):\n",
        "    def greet(self):\n",
        "        return \"Hello from Decorator!\"\n",
        "    cls.greet = greet\n",
        "    return cls\n",
        "\n",
        "@add_greeting\n",
        "class Person:\n",
        "    def __init__(self, name):\n",
        "        self.name = name\n",
        "\n",
        "p = Person(\"Bruce Wayne\")\n",
        "\n",
        "print(p.greet())\n"
      ],
      "metadata": {
        "colab": {
          "base_uri": "https://localhost:8080/"
        },
        "id": "dN6oVTIup8Y1",
        "outputId": "3ff6e0ef-f428-4914-ce73-c41a74e74b8c"
      },
      "execution_count": 2,
      "outputs": [
        {
          "output_type": "stream",
          "name": "stdout",
          "text": [
            "Hello from Decorator!\n"
          ]
        }
      ]
    },
    {
      "cell_type": "markdown",
      "source": [
        "18. Property Decorators: @property, @setter, and @deleter"
      ],
      "metadata": {
        "id": "yD0ZidkLsrs-"
      }
    },
    {
      "cell_type": "code",
      "source": [
        "class Product:\n",
        "    def __init__(self, price):\n",
        "        self._price = price\n",
        "\n",
        "    @property\n",
        "    def price(self):\n",
        "        return self._price\n",
        "\n",
        "\n",
        "    @price.setter\n",
        "    def price(self, value):\n",
        "        if value < 0:\n",
        "            print(\"Price cannot be negative!\")\n",
        "        else:\n",
        "            self._price = value\n",
        "\n",
        "\n",
        "    @price.deleter\n",
        "    def price(self):\n",
        "        print(\"Deleting price...\")\n",
        "        del self._price\n",
        "\n",
        "\n",
        "p = Product(100)\n",
        "\n",
        "\n",
        "print(\"Initial price:\", p.price)\n",
        "\n",
        "\n",
        "p.price = 200\n",
        "print(\"Updated price:\", p.price)\n",
        "\n",
        "\n",
        "p.price = -50\n",
        "\n",
        "\n",
        "del p.price\n"
      ],
      "metadata": {
        "colab": {
          "base_uri": "https://localhost:8080/"
        },
        "id": "kWrsNZBpsseB",
        "outputId": "b54aef7e-9749-4dc0-d595-2a85eff4fa21"
      },
      "execution_count": 3,
      "outputs": [
        {
          "output_type": "stream",
          "name": "stdout",
          "text": [
            "Initial price: 100\n",
            "Updated price: 200\n",
            "Price cannot be negative!\n",
            "Deleting price...\n"
          ]
        }
      ]
    },
    {
      "cell_type": "markdown",
      "source": [
        "19. callable() and __call__()"
      ],
      "metadata": {
        "id": "SprlQ2IgtwQ7"
      }
    },
    {
      "cell_type": "code",
      "source": [
        "class Multiplier:\n",
        "    def __init__(self, factor):\n",
        "        self.factor = factor\n",
        "\n",
        "\n",
        "    def __call__(self, value):\n",
        "        return value * self.factor\n",
        "\n",
        "\n",
        "m = Multiplier(5)\n",
        "\n",
        "print(\"Is m callable?\", callable(m))\n",
        "\n",
        "result = m(10)\n",
        "print(\"Result of m(10):\", result)\n"
      ],
      "metadata": {
        "colab": {
          "base_uri": "https://localhost:8080/"
        },
        "id": "rAkkVT1BtxKK",
        "outputId": "c0668730-972a-45a0-8706-22e1cfdd7028"
      },
      "execution_count": 6,
      "outputs": [
        {
          "output_type": "stream",
          "name": "stdout",
          "text": [
            "Is m callable? True\n",
            "Result of m(10): 50\n"
          ]
        }
      ]
    },
    {
      "cell_type": "markdown",
      "source": [
        "20. Creating a Custom Exception"
      ],
      "metadata": {
        "id": "FK25QYsPwKe7"
      }
    },
    {
      "cell_type": "code",
      "source": [
        "\n",
        "class InvalidAgeError(Exception):\n",
        "    pass\n",
        "\n",
        "\n",
        "def check_age(age):\n",
        "    if age < 18:\n",
        "        raise InvalidAgeError(\"Age must be at least 18 to proceed.\")\n",
        "    else:\n",
        "        print(\"Access granted.\")\n",
        "\n",
        "\n",
        "try:\n",
        "    user_age = int(input(\"Enter your age: \"))\n",
        "    check_age(user_age)\n",
        "except InvalidAgeError as e:\n",
        "    print(\"InvalidAgeError:\", e)\n",
        "except ValueError:\n",
        "    print(\"Please enter a valid number.\")\n"
      ],
      "metadata": {
        "colab": {
          "base_uri": "https://localhost:8080/"
        },
        "id": "TmwoPlbIuavM",
        "outputId": "dbb59439-3a94-451b-9d2f-9606a2b0a636"
      },
      "execution_count": 7,
      "outputs": [
        {
          "output_type": "stream",
          "name": "stdout",
          "text": [
            "Enter your age: 23\n",
            "Access granted.\n"
          ]
        }
      ]
    },
    {
      "cell_type": "markdown",
      "source": [
        "21. Make a Custom Class Iterable"
      ],
      "metadata": {
        "id": "kAVA2N_yx6lI"
      }
    },
    {
      "cell_type": "code",
      "source": [
        "class Countdown:\n",
        "  def __init__(self, start):\n",
        "    self.current = start\n",
        "\n",
        "  def __iter__(self):\n",
        "    return self\n",
        "  def __next__(self):\n",
        "    if self.current < 0:\n",
        "      raise StopIteration\n",
        "    num = self.current\n",
        "    self.current -= 1\n",
        "    return num\n",
        "\n",
        "for number in Countdown(5):\n",
        "  print(number)\n"
      ],
      "metadata": {
        "colab": {
          "base_uri": "https://localhost:8080/"
        },
        "id": "nG-iGHOWx7b1",
        "outputId": "e6b97cb6-d7ee-479a-e08c-010ceb9e1cca"
      },
      "execution_count": 8,
      "outputs": [
        {
          "output_type": "stream",
          "name": "stdout",
          "text": [
            "5\n",
            "4\n",
            "3\n",
            "2\n",
            "1\n",
            "0\n"
          ]
        }
      ]
    }
  ]
}